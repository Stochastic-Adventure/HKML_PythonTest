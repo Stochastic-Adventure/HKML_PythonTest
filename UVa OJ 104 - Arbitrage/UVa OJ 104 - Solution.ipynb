{
 "cells": [
  {
   "cell_type": "code",
   "execution_count": 1,
   "id": "processed-understanding",
   "metadata": {},
   "outputs": [],
   "source": [
    "import sys"
   ]
  },
  {
   "cell_type": "markdown",
   "id": "fiscal-camel",
   "metadata": {},
   "source": [
    "## Analysis\n",
    "\n",
    "For currency arbitrage problems, graphs are used to represent the data. Currencies are vertices, and exchange rates are edges. Since every currency should be exchangeable, the resulting graph is a complete directed graph.\n",
    "\n",
    "The objective is to find a cycle in this complete directed graph such that the product of the edge weights within the cycle exceeds 1.01, i.e. 1% arbitrage profit. \n",
    "\n",
    "There is one more catch in this specific problem: if arbitrage exists, we need to find the arbitrage that involves with the fewest transactions. Also, even if arbitrage exists but if the number of transactions required exceeds the number of currencies $n$, then we will not consider the solution at all.\n",
    "\n",
    "Therefore, the key to this question is we want to maximize the product of the edge weights along the cycle and in the meantime, minimize the number of edges that construct the cycle.\n",
    "\n",
    "Floyd-Warshall algorithm can be used to find all-pairs shortest-path for a directed graph. Since the number of transactions is limited, we can modify the Floyd-Warshall algorithm to find an all-pairs longest-path with at most $n$ edges."
   ]
  },
  {
   "cell_type": "code",
   "execution_count": 2,
   "id": "substantial-entrance",
   "metadata": {},
   "outputs": [],
   "source": [
    "def read_data(file=None):\n",
    "    \"\"\"\n",
    "    To demonstrate the algorithm, a file input was used\n",
    "    \"\"\"\n",
    "    if file is not None:\n",
    "        sys.stdin = open(file, 'r')\n",
    "    \n",
    "    # Need to read multiple graphs\n",
    "    linebreak = 0  # Record where the adjacency matrix ends\n",
    "    graphs = []\n",
    "    \n",
    "    # Initialize the variables\n",
    "    adj_matrix = None\n",
    "    counter = None\n",
    "    \n",
    "    for lineidx, line in enumerate(sys.stdin):\n",
    "        nums = line.strip().split()\n",
    "        if len(nums) == 1 and lineidx == linebreak:\n",
    "            if linebreak != 0:\n",
    "                # Graph adjacency matrix input complete. Store the graph\n",
    "                graphs.append(adj_matrix)\n",
    "            \n",
    "            # Otherwise, initialize the adjacency matrix and start reading the graph.\n",
    "            graph_size = int(nums[0])\n",
    "            adj_matrix = [[0. for _ in range(graph_size)] for _ in range(graph_size)]\n",
    "            \n",
    "            # Count the rows so that the correct element is filled into the adjacency matrix\n",
    "            counter = 0\n",
    "            linebreak = lineidx + graph_size + 1\n",
    "        \n",
    "        else:\n",
    "            # Calculate where to fill in the rate into the adjacency matrix\n",
    "            indices = [i for i in range(graph_size) if i != counter]\n",
    "            nums = [float(x) for x in nums]\n",
    "            for idx, rate in enumerate(nums):\n",
    "                # Complete the adjacency matrix\n",
    "                adj_matrix[counter][indices[idx]] = rate\n",
    "            # Next row\n",
    "            counter += 1\n",
    "            \n",
    "    graphs.append(adj_matrix)\n",
    "    return graphs"
   ]
  },
  {
   "cell_type": "code",
   "execution_count": 12,
   "id": "mathematical-bundle",
   "metadata": {},
   "outputs": [],
   "source": [
    "def find_arbitrage(adj_matrix):\n",
    "    # Number of currencies\n",
    "    n = len(adj_matrix)\n",
    "    \n",
    "    # Account value of a certain trade path.\n",
    "    # account[step][i][j] --> means the account value after we traded \"step\" times starting \n",
    "    # with currency i and ends in currency j. The starting value of the account is 1 as we are calculating percentage.\n",
    "    \n",
    "    # At step 0, only one trade is allowed. Therefore, account[0][i][j] = adj_matrix[i][j] if i != j else 1\n",
    "    account = [[[0. for _ in range(n)] for _ in range(n)] for _ in range(n)]\n",
    "    for i in range(n):\n",
    "        for j in range(n):\n",
    "            if i != j:\n",
    "                account[0][i][j] = adj_matrix[i][j]\n",
    "            else:\n",
    "                account[0][i][j] = 1\n",
    "    \n",
    "    # Predecessor table. \n",
    "    # prev[step][i][j] --> means when we traded \"step\" times and started with currency i and ends in currency j,\n",
    "    # the final trade is converting currency \"prev[step][i][j]\" to currency j\n",
    "    \n",
    "    # At step 0, only one trade is allowed. Therefore, prev[0][i][j] = i\n",
    "    prev = [[[None for _ in range(n)] for _ in range(n)] for _ in range(n)]\n",
    "    for i in range(n):\n",
    "        for j in range(n):\n",
    "            prev[0][i][j] = i\n",
    "    \n",
    "    # This list is for recording results.\n",
    "    output = []\n",
    "    \n",
    "    # Now we can run the Floyd-Warshall algorithm\n",
    "    for tx in range(1, n):\n",
    "        # Already dealt with the one transaction, so we begin with scenarios with two or more transactions.\n",
    "        # Floyd-Warshall starts here\n",
    "        for i in range(n):\n",
    "            for j in range(n):\n",
    "                for k in range(n):\n",
    "                    if account[tx-1][i][k] * adj_matrix[k][j] > account[tx][i][j]:\n",
    "                        account[tx][i][j] = account[tx-1][i][k] * adj_matrix[k][j]\n",
    "                        prev[tx][i][j] = k\n",
    "                        \n",
    "                        # Speeding things up: early exit\n",
    "                        # As soon as we found an arbitrage, we stop iterating and print the result.\n",
    "                        if account[tx][i][i] >= 1.01:\n",
    "                            # We found a path! Print the path and return true.\n",
    "                            # The arbitrage ends at currency i, so we append it to the output result first.\n",
    "                            output.append(str(i + 1))\n",
    "\n",
    "                            # Now we start iterating through the predecessors.\n",
    "                            m = tx\n",
    "                            last_ccy = i\n",
    "                            while m >= 0:\n",
    "                                last_ccy = prev[m][i][last_ccy]\n",
    "                                m -= 1\n",
    "                                output.append(str(last_ccy + 1))\n",
    "\n",
    "                            # The path is inversed as we appended the destination currency first.\n",
    "                            print(\" \".join(output[::-1]))\n",
    "                            return\n",
    "            \n",
    "    # No path exists. Print the error message.\n",
    "    print(\"no arbitrage sequence exists\")"
   ]
  },
  {
   "cell_type": "markdown",
   "id": "administrative-independence",
   "metadata": {},
   "source": [
    "Example test cases:"
   ]
  },
  {
   "cell_type": "code",
   "execution_count": 13,
   "id": "favorite-guard",
   "metadata": {},
   "outputs": [],
   "source": [
    "data = read_data(\"input.txt\")"
   ]
  },
  {
   "cell_type": "code",
   "execution_count": 14,
   "id": "advanced-religious",
   "metadata": {},
   "outputs": [
    {
     "name": "stdout",
     "output_type": "stream",
     "text": [
      "1 2 1\n"
     ]
    }
   ],
   "source": [
    "find_arbitrage(data[0])"
   ]
  },
  {
   "cell_type": "code",
   "execution_count": 15,
   "id": "casual-polls",
   "metadata": {},
   "outputs": [
    {
     "name": "stdout",
     "output_type": "stream",
     "text": [
      "1 4 3 1\n"
     ]
    }
   ],
   "source": [
    "find_arbitrage(data[1])"
   ]
  },
  {
   "cell_type": "code",
   "execution_count": 7,
   "id": "unknown-dominican",
   "metadata": {},
   "outputs": [
    {
     "name": "stdout",
     "output_type": "stream",
     "text": [
      "no arbitrage sequence exists\n"
     ]
    }
   ],
   "source": [
    "find_arbitrage(data[2])"
   ]
  },
  {
   "cell_type": "markdown",
   "id": "sunset-catch",
   "metadata": {},
   "source": [
    "While the answer did not exactly match the ones in problem description, the number of trades is correct. This implies that the answer is not unique. Even with the same number of trades, multiple paths leading to arbitrage exist. "
   ]
  },
  {
   "cell_type": "code",
   "execution_count": null,
   "id": "banner-consciousness",
   "metadata": {},
   "outputs": [],
   "source": [
    "\"\"\"\n",
    "This section is for OJ submission.\n",
    "\"\"\"\n",
    "\n",
    "if __name__ == \"__main__\":\n",
    "    graphs = read_data()\n",
    "    for g in graphs:\n",
    "        find_arbitrage(g)"
   ]
  }
 ],
 "metadata": {
  "kernelspec": {
   "display_name": "Python [conda env:arbitragelab_test] *",
   "language": "python",
   "name": "conda-env-arbitragelab_test-py"
  },
  "language_info": {
   "codemirror_mode": {
    "name": "ipython",
    "version": 3
   },
   "file_extension": ".py",
   "mimetype": "text/x-python",
   "name": "python",
   "nbconvert_exporter": "python",
   "pygments_lexer": "ipython3",
   "version": "3.8.5"
  }
 },
 "nbformat": 4,
 "nbformat_minor": 5
}

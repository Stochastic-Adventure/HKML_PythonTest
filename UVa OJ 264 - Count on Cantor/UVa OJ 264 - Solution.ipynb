{
 "cells": [
  {
   "cell_type": "code",
   "execution_count": 1,
   "id": "analyzed-symphony",
   "metadata": {},
   "outputs": [],
   "source": [
    "import sys"
   ]
  },
  {
   "cell_type": "markdown",
   "id": "correct-editing",
   "metadata": {},
   "source": [
    "## Analysis\n",
    "\n",
    "The Cantor's counting method is to count along the anti-diagonals, i.e. from either top right to bottom left or bottom left to top right.\n",
    "\n",
    "On each diagonal, the sum of the numerator and the denominator for each fraction is equal to the same number.\n",
    "\n",
    "So in order to quickly obtain the term, we need to know which anti-diagonal the $n$-th term is on.\n",
    "\n",
    "For example, the 14th term is on 5th anti-diagonal. Why? Because:\n",
    "$$\n",
    "1 + 2 + 3 + 4 = 10 < 14 < 15 = 1 + 2 + 3 + 4 + 5\n",
    "$$\n",
    "\n",
    "Therefore, to find which anti-diagonal the $n$-th term, we just need to find $m$, such that:\n",
    "$$\n",
    "\\frac{m(m-1)}{2} < n <= \\frac{m(m+1)}{2}\n",
    "$$\n",
    "\n",
    "If $m$ is even, then we need to count from top right to bottom left. In this case, the numerator is increasing.\n",
    "Otherwise, we need to count from bottom left to top right. In this case, the denominator is increasing.\n",
    "\n",
    "Considering the maximum input is $10^7$, the time complexity of finding $m$ is approximately $O(\\sqrt{n})$, which is manageable within the time limit. \n",
    "\n",
    "Now we can start implementing the algorithm."
   ]
  },
  {
   "cell_type": "code",
   "execution_count": 2,
   "id": "orange-recommendation",
   "metadata": {},
   "outputs": [],
   "source": [
    "def find_diag(n):\n",
    "    m = 1\n",
    "    while True:\n",
    "        if n <= m*(m+1) // 2:\n",
    "            return m\n",
    "        m += 1"
   ]
  },
  {
   "cell_type": "code",
   "execution_count": 3,
   "id": "attached-swift",
   "metadata": {},
   "outputs": [],
   "source": [
    "def output(n, m):\n",
    "    if m & 1 == 1:\n",
    "        # m is odd, denominator is increasing\n",
    "        denom = n - m * (m-1) // 2\n",
    "        num = m - denom + 1\n",
    "    else:\n",
    "        # m is even, nominator is increasing\n",
    "        num = n - m * (m-1) // 2\n",
    "        denom = m - num + 1\n",
    "        \n",
    "    print(\"TERM {} IS {}/{}\".format(n,num,denom))"
   ]
  },
  {
   "cell_type": "markdown",
   "id": "surprising-belief",
   "metadata": {},
   "source": [
    "Example test cases:"
   ]
  },
  {
   "cell_type": "code",
   "execution_count": 4,
   "id": "pressed-request",
   "metadata": {},
   "outputs": [
    {
     "name": "stdout",
     "output_type": "stream",
     "text": [
      "TERM 3 IS 2/1\n"
     ]
    }
   ],
   "source": [
    "test_n1 = 3\n",
    "output(test_n1, find_diag(test_n1))"
   ]
  },
  {
   "cell_type": "code",
   "execution_count": 5,
   "id": "buried-speaking",
   "metadata": {},
   "outputs": [
    {
     "name": "stdout",
     "output_type": "stream",
     "text": [
      "TERM 14 IS 2/4\n"
     ]
    }
   ],
   "source": [
    "test_n2 = 14\n",
    "output(test_n2, find_diag(test_n2))"
   ]
  },
  {
   "cell_type": "code",
   "execution_count": 6,
   "id": "second-fusion",
   "metadata": {},
   "outputs": [
    {
     "name": "stdout",
     "output_type": "stream",
     "text": [
      "TERM 7 IS 1/4\n"
     ]
    }
   ],
   "source": [
    "test_n3 = 7\n",
    "output(test_n3, find_diag(test_n3))"
   ]
  },
  {
   "cell_type": "code",
   "execution_count": 7,
   "id": "hispanic-parameter",
   "metadata": {},
   "outputs": [],
   "source": [
    "\"\"\"\n",
    "This section is for OJ submission.\n",
    "\"\"\"\n",
    "\n",
    "if __name__ == \"__main__\":\n",
    "    for line in sys.stdin:\n",
    "        test_case = int(line.strip())\n",
    "        output(test_case, find_diag(test_case))"
   ]
  }
 ],
 "metadata": {
  "kernelspec": {
   "display_name": "Python [conda env:arbitragelab_test] *",
   "language": "python",
   "name": "conda-env-arbitragelab_test-py"
  },
  "language_info": {
   "codemirror_mode": {
    "name": "ipython",
    "version": 3
   },
   "file_extension": ".py",
   "mimetype": "text/x-python",
   "name": "python",
   "nbconvert_exporter": "python",
   "pygments_lexer": "ipython3",
   "version": "3.8.5"
  }
 },
 "nbformat": 4,
 "nbformat_minor": 5
}

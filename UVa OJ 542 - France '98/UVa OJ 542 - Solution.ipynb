{
 "cells": [
  {
   "cell_type": "code",
   "execution_count": 8,
   "id": "unusual-giant",
   "metadata": {},
   "outputs": [],
   "source": [
    "import sys"
   ]
  },
  {
   "cell_type": "markdown",
   "id": "northern-column",
   "metadata": {},
   "source": [
    "## Analysis\n",
    "\n",
    "The probability of Team A beating Team B at a stage $i$ to advance to stage $i+1$ is the following:\n",
    "\n",
    "$$\n",
    "P(A \\text{ beat } B \\text{ at stage } i) = P(A \\text{ reaching stage }i) P(B \\text{ reaching stage }i) P(A \\text{ beat } B)\n",
    "$$\n",
    "\n",
    "So we need to calculate the probability of each team reaching every stage, i.e. BO8, quarter-final, semi-final, and final.\n",
    "\n",
    "$$\n",
    "P(A \\text{ reaching stage } i + 1) = \\sum_B P(A \\text{ beat } B \\text { at stage } i ) \n",
    "$$\n",
    "\n",
    "The teams from the same bracket won't be meeting each other in later stage. For example, Brazil and Nigeria won't meet in the final as they are both from the upper bracket. We need to find a convenient representation of the brackets so that these impossible matchups can be excluded with ease.\n",
    "\n",
    "Since there are only 16 teams, we can try binaries and use 4-bit to represent the brackets.\n",
    "\n",
    "Brazil is the first team on the list, and thus can be represented as $0000$.\n",
    "\n",
    "Argentina is the 7th team on the list, and thus can be represented as $(6)_2 = 0110$\n",
    "\n",
    "BO8 matches are straightforward as the matchups are already decided.\n",
    "\n",
    "For quarter-finals, we can check if the second lowest bit is the same. If yes, then this matchup is impossible as they already played against each other in BO8 matches.\n",
    "\n",
    "For semi-finals, we check the second highest bit is the same.\n",
    "\n",
    "For finals, we check the highest bit.\n",
    "\n",
    "This way we can quickly decide which matchups are impossible.\n",
    "\n",
    "Now time for implementation."
   ]
  },
  {
   "cell_type": "code",
   "execution_count": 9,
   "id": "intermediate-smile",
   "metadata": {},
   "outputs": [],
   "source": [
    "def read_data(file=None):\n",
    "    \"\"\"\n",
    "    For demonstration purposes, the input was stored in the file.\n",
    "    \"\"\"\n",
    "    countries = []\n",
    "    probs = []\n",
    "    if file is not None:\n",
    "        sys.stdin = file\n",
    "    \n",
    "    for idx, line in enumerate(sys.stdin):\n",
    "        if idx < 16:\n",
    "            # First 16 lines are countries\n",
    "            countries.append(line.strip())\n",
    "        else:\n",
    "            # Last 16 lines are probabilities\n",
    "            probs.append([float(x) / 100 for x in line.strip().split()])\n",
    "            \n",
    "    return countries, probs"
   ]
  },
  {
   "cell_type": "code",
   "execution_count": 10,
   "id": "protected-isolation",
   "metadata": {},
   "outputs": [],
   "source": [
    "def calc_prob(prior, likelihood, phase):\n",
    "    \"\"\"\n",
    "    phase = 1, BO8\n",
    "    phase = 2, quarter-final\n",
    "    phase = 3, semi-final\n",
    "    phase = 4, final\n",
    "    \n",
    "    return: Probability of each country reaching phase i.\n",
    "    \"\"\"\n",
    "    # Number of groups in each phase\n",
    "    k = 16 // (2 ** phase)\n",
    "    grouping = [set([2 ** phase * j + i for i in range(16 // k)]) for j in range(k)]\n",
    "    \n",
    "    # Probability of a country reaching next phase\n",
    "    next_phase_prob = [0. for _ in range(16)]\n",
    "    for group in grouping:\n",
    "        for team in group:\n",
    "            # A team cannot play against itself\n",
    "            opponent = group - {team}\n",
    "            \n",
    "            for oppo in opponent:\n",
    "                # Check if the team came from the same bracket as this opponent in the previous phase\n",
    "                home_prev_phase_group = (team >> (phase - 1)) & 1  # Fetching the corresponding bit that represents the phase\n",
    "                away_prev_phase_group = (oppo >> (phase - 1)) & 1\n",
    "                if home_prev_phase_group != away_prev_phase_group:\n",
    "                    # Can only play against each other if they came from different brackets in the previous phase\n",
    "                    next_phase_prob[team] += prior[team] * prior[oppo] * likelihood[team][oppo]\n",
    "    return next_phase_prob"
   ]
  },
  {
   "cell_type": "code",
   "execution_count": 11,
   "id": "fallen-lender",
   "metadata": {},
   "outputs": [],
   "source": [
    "def solve(country, probs):\n",
    "    initial_prior = [1. for _ in range(16)]\n",
    "    for i in range(1, 5):\n",
    "        # Iterate through each phase\n",
    "        next_phase_prior = calc_prob(initial_prior, probs, i)\n",
    "        \n",
    "        # Update prior to the current phase\n",
    "        initial_prior = next_phase_prior\n",
    "    \n",
    "    for idx, c in enumerate(country):\n",
    "        print(\"{:<10} p={:.2%}\".format(c, initial_prior[idx]))"
   ]
  },
  {
   "cell_type": "markdown",
   "id": "becoming-domestic",
   "metadata": {},
   "source": [
    "Example test case:"
   ]
  },
  {
   "cell_type": "code",
   "execution_count": 12,
   "id": "determined-field",
   "metadata": {},
   "outputs": [],
   "source": [
    "countries, probabilities = read_data(open(\"input.txt\"))"
   ]
  },
  {
   "cell_type": "code",
   "execution_count": 13,
   "id": "phantom-picnic",
   "metadata": {},
   "outputs": [
    {
     "name": "stdout",
     "output_type": "stream",
     "text": [
      "Brazil     p=8.54%\n",
      "Chile      p=1.60%\n",
      "Nigeria    p=8.06%\n",
      "Denmark    p=2.79%\n",
      "Holland    p=4.51%\n",
      "Yugoslavia p=7.50%\n",
      "Argentina  p=8.38%\n",
      "England    p=1.56%\n",
      "Italy      p=9.05%\n",
      "Norway     p=3.23%\n",
      "France     p=13.72%\n",
      "Paraguay   p=3.09%\n",
      "Germany    p=13.79%\n",
      "Mexico     p=3.11%\n",
      "Romania    p=5.53%\n",
      "Croatia    p=5.53%\n"
     ]
    }
   ],
   "source": [
    "solve(countries, probabilities)"
   ]
  },
  {
   "cell_type": "code",
   "execution_count": null,
   "id": "resistant-breathing",
   "metadata": {},
   "outputs": [],
   "source": [
    "\"\"\"\n",
    "This section is for OJ submission.\n",
    "\"\"\"\n",
    "\n",
    "if __name__ == \"__main__\":\n",
    "    countries, probabilities = read_data()\n",
    "    solve(countries, probabilities)"
   ]
  },
  {
   "cell_type": "code",
   "execution_count": null,
   "id": "applicable-convenience",
   "metadata": {},
   "outputs": [],
   "source": []
  }
 ],
 "metadata": {
  "kernelspec": {
   "display_name": "Python [conda env:arbitragelab_test] *",
   "language": "python",
   "name": "conda-env-arbitragelab_test-py"
  },
  "language_info": {
   "codemirror_mode": {
    "name": "ipython",
    "version": 3
   },
   "file_extension": ".py",
   "mimetype": "text/x-python",
   "name": "python",
   "nbconvert_exporter": "python",
   "pygments_lexer": "ipython3",
   "version": "3.8.5"
  }
 },
 "nbformat": 4,
 "nbformat_minor": 5
}

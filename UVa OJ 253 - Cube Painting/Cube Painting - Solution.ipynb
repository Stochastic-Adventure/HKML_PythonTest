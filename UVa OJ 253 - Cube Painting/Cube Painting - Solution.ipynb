{
 "cells": [
  {
   "cell_type": "code",
   "execution_count": 1,
   "id": "located-camera",
   "metadata": {},
   "outputs": [],
   "source": [
    "import sys"
   ]
  },
  {
   "cell_type": "markdown",
   "id": "figured-induction",
   "metadata": {},
   "source": [
    "## Analysis\n",
    "\n",
    "The key to this question is to find the invariant.\n",
    "\n",
    "Notice that no matter how we rotate the cube, the opposite faces will always stay in the same configuration, i.e. Face #1 and Face #6 will always be on the opposite position. Similarly, Face #2 and #5, as well as Face #3 and #4, all share this property.\n",
    "\n",
    "So all we need to do is to check the permutations of these 3 face pairs and see if we can find one-to-one correspondence. If yes, we can return True. Otherwise, just return False."
   ]
  },
  {
   "cell_type": "code",
   "execution_count": 2,
   "id": "honey-printing",
   "metadata": {},
   "outputs": [],
   "source": [
    "def read_data(line):\n",
    "    \"\"\"\n",
    "    Processing input. Assuming the reader has already stripped all the newline characters at the end.\n",
    "    \"\"\"\n",
    "    cube1 = line[:6]\n",
    "    cube2 = line[6:]\n",
    "    return cube1, cube2"
   ]
  },
  {
   "cell_type": "code",
   "execution_count": 3,
   "id": "temporal-removal",
   "metadata": {},
   "outputs": [],
   "source": [
    "def face_compare(facepair1, facepair2):\n",
    "    \"\"\"\n",
    "    Check if the two face pairs are the same.\n",
    "    \n",
    "    The function will return True in 2 cases.\n",
    "    Case 1: The color configuration of two face pairs are exactly the same; e.g. facepair1 = 'rb', facepair2 = 'rb'.\n",
    "    Case 2: The color configuration of two face pairs are symmetric; e.g. facepair1 = 'rb', facepair2 = 'br'.\n",
    "    \n",
    "    For all other cases, return False.\n",
    "    \"\"\"\n",
    "    return set(facepair1) == set(facepair2)"
   ]
  },
  {
   "cell_type": "code",
   "execution_count": 4,
   "id": "amino-retail",
   "metadata": {},
   "outputs": [],
   "source": [
    "def compare(cube1, cube2):\n",
    "    \"\"\"\n",
    "    Check if two cubes are the same.\n",
    "    \"\"\"\n",
    "    # Generate all the opposite face pairs: (0, 5), (1, 4), (2, 3)\n",
    "    opposite1 = [\"\".join((cube1[i], cube1[5-i])) for i in range(3)]\n",
    "    opposite2 = [\"\".join((cube2[i], cube2[5-i])) for i in range(3)]\n",
    "    \n",
    "    # Record which face pairs are matched\n",
    "    matched1 = set()\n",
    "    matched2 = set()\n",
    "    \n",
    "    # Check all the permutations\n",
    "    for i, face1 in enumerate(opposite1):\n",
    "        for j, face2 in enumerate(opposite2):\n",
    "            if face_compare(face1, face2):\n",
    "                matched1.add(i)\n",
    "                matched2.add(j)\n",
    "                \n",
    "    # All face pairs must be matched, otherwise the two cubes are differently painted.\n",
    "    return matched1 == {0, 1, 2} and matched2 == {0, 1, 2}"
   ]
  },
  {
   "cell_type": "markdown",
   "id": "brutal-devil",
   "metadata": {},
   "source": [
    "Let's run the example test cases in the problem description."
   ]
  },
  {
   "cell_type": "code",
   "execution_count": 5,
   "id": "atomic-metallic",
   "metadata": {},
   "outputs": [],
   "source": [
    "test1 = 'rbgggrrggbgr'\n",
    "test2 = 'rrrbbbrrbbbr'\n",
    "test3 = 'rbgrbgrrrrrg'"
   ]
  },
  {
   "cell_type": "code",
   "execution_count": 6,
   "id": "actual-graphic",
   "metadata": {},
   "outputs": [
    {
     "data": {
      "text/plain": [
       "True"
      ]
     },
     "execution_count": 6,
     "metadata": {},
     "output_type": "execute_result"
    }
   ],
   "source": [
    "compare(*read_data(test1))"
   ]
  },
  {
   "cell_type": "code",
   "execution_count": 7,
   "id": "boring-thailand",
   "metadata": {},
   "outputs": [
    {
     "data": {
      "text/plain": [
       "False"
      ]
     },
     "execution_count": 7,
     "metadata": {},
     "output_type": "execute_result"
    }
   ],
   "source": [
    "compare(*read_data(test2))"
   ]
  },
  {
   "cell_type": "code",
   "execution_count": 8,
   "id": "announced-procurement",
   "metadata": {},
   "outputs": [
    {
     "data": {
      "text/plain": [
       "False"
      ]
     },
     "execution_count": 8,
     "metadata": {},
     "output_type": "execute_result"
    }
   ],
   "source": [
    "compare(*read_data(test3))"
   ]
  },
  {
   "cell_type": "code",
   "execution_count": 9,
   "id": "liquid-greensboro",
   "metadata": {},
   "outputs": [],
   "source": [
    "\"\"\"\n",
    "This part is for OJ submission.\n",
    "\"\"\"\n",
    "\n",
    "if __name__ == \"__main__\":\n",
    "    for line in sys.stdin:\n",
    "        if compare(*read_data(line.strip())):\n",
    "            print(\"TRUE\")\n",
    "        else:\n",
    "            print(\"FALSE\")"
   ]
  },
  {
   "cell_type": "code",
   "execution_count": null,
   "id": "small-chemical",
   "metadata": {},
   "outputs": [],
   "source": []
  }
 ],
 "metadata": {
  "kernelspec": {
   "display_name": "Python [conda env:arbitragelab_test] *",
   "language": "python",
   "name": "conda-env-arbitragelab_test-py"
  },
  "language_info": {
   "codemirror_mode": {
    "name": "ipython",
    "version": 3
   },
   "file_extension": ".py",
   "mimetype": "text/x-python",
   "name": "python",
   "nbconvert_exporter": "python",
   "pygments_lexer": "ipython3",
   "version": "3.8.5"
  }
 },
 "nbformat": 4,
 "nbformat_minor": 5
}
